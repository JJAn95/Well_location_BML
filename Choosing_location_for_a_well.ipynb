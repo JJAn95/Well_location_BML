{
 "cells": [
  {
   "cell_type": "markdown",
   "id": "87d3580f",
   "metadata": {},
   "source": [
    "## Вступление"
   ]
  },
  {
   "cell_type": "markdown",
   "id": "f64c0817",
   "metadata": {},
   "source": [
    "**Описание**\n",
    "Допустим, мы работаем в добывающей компании «ГлавРосГосНефть». Нужно решить, где бурить новую скважину. \n",
    "Шаги для выбора локации обычно такие:\n",
    "* В избранном регионе собирают характеристики для скважин: качество нефти и объём её запасов;\n",
    "* Строят модель для предсказания объёма запасов в новых скважинах;\n",
    "* Выбирают скважины с самыми высокими оценками значений;\n",
    "* Определяют регион с максимальной суммарной прибылью отобранных скважин.\n",
    "Нам предоставлены пробы нефти в трёх регионах. Характеристики для каждой скважины в регионе уже известны.\n",
    "\n",
    "**Цель:** Построить модель для определения региона, где добыча принесёт наибольшую прибыль. Проанализировать возможную прибыль и риски техникой Bootstrap\n",
    "\n",
    "**План действий:**\n",
    "\n",
    "1. Загрузить и подготовить данные. Пояснить порядок действий.\n",
    "2. Обучить и проверить модель для каждого региона:\n",
    "\n",
    "    2.1. Разбить данные на обучающую и валидационную выборки в соотношении 75:25.\n",
    "    \n",
    "    2.2. Обучить модель и сделать предсказания на валидационной выборке.\n",
    "    \n",
    "    2.3. Сохранить предсказания и правильные ответы на валидационной выборке.\n",
    "    \n",
    "    2.4. Напечатать на экране средний запас предсказанного сырья и RMSE модели.\n",
    "    \n",
    "    2.5. Проанализировать результаты.\n",
    "3. Подготовиться к расчёту прибыли:\n",
    "\n",
    "    3.1. Все ключевые значения для расчётов сохранить в отдельных переменных.\n",
    "    \n",
    "    3.2. Рассчитать достаточный объём сырья для безубыточной разработки новой скважины. Сравнить полученный объём сырья со средним запасом в каждом регионе. \n",
    "    \n",
    "    3.3. Написать выводы по этапу подготовки расчёта прибыли.\n",
    "4. Написать функцию для расчёта прибыли по выбранным скважинам и предсказаниям модели:\n",
    "\n",
    "    4.1. Выбрать скважины с максимальными значениями предсказаний.\n",
    "    \n",
    "    4.2. Просуммировать целевое значение объёма сырья, соответствующее этим предсказаниям.\n",
    "    \n",
    "    4.3. Рассчитать прибыль для полученного объёма сырья.\n",
    "5. Посчитать риски и прибыль для каждого региона:\n",
    "\n",
    "    5.1. Применить технику Bootstrap с 1000 выборок, чтобы найти распределение прибыли.\n",
    "    5.2. Найти среднюю прибыль, 95%-й доверительный интервал и риск убытков. Убыток — это отрицательная прибыль.\n",
    "    5.3. Написать выводы: предложить регион для разработки скважин и обосновать выбор."
   ]
  },
  {
   "cell_type": "markdown",
   "id": "b0a081ae",
   "metadata": {},
   "source": [
    "## 1.Загрузка и подготовка данных"
   ]
  },
  {
   "cell_type": "code",
   "execution_count": 1,
   "id": "105d3e1c",
   "metadata": {},
   "outputs": [],
   "source": [
    "# Добавляем все необходимые библиотеки\n",
    "import pandas as pd\n",
    "import matplotlib.pyplot as plt\n",
    "import seaborn as sns\n",
    "from sklearn.preprocessing import StandardScaler\n",
    "from sklearn.model_selection import train_test_split\n",
    "import numpy as np\n",
    "from sklearn.tree import DecisionTreeRegressor\n",
    "from sklearn.ensemble import RandomForestRegressor\n",
    "from sklearn.linear_model import LinearRegression\n",
    "from sklearn.metrics import mean_squared_error\n",
    "from sklearn.utils import shuffle"
   ]
  },
  {
   "cell_type": "code",
   "execution_count": 2,
   "id": "8bbbeffa",
   "metadata": {},
   "outputs": [],
   "source": [
    "BUDGET = 10 * 10 ** 9\n",
    "NUMBER_OF_WELLS = 200\n",
    "COST_1000_BARRELS = 4.5 * 10 ** 5"
   ]
  },
  {
   "cell_type": "code",
   "execution_count": 3,
   "id": "c2eedc38",
   "metadata": {},
   "outputs": [],
   "source": [
    "# открываем и чекаем исходный датасет\n",
    "try:\n",
    "    geo_0 = pd.read_csv('geo_data_0.csv')\n",
    "    geo_1 = pd.read_csv('geo_data_1.csv')\n",
    "    geo_2 = pd.read_csv('geo_data_2.csv')\n",
    "except FileNotFoundError:\n",
    "    geo_0 = pd.read_csv('/datasets/geo_data_0.csv')\n",
    "    geo_1 = pd.read_csv('/datasets/geo_data_1.csv')\n",
    "    geo_2 = pd.read_csv('/datasets/geo_data_2.csv')"
   ]
  },
  {
   "cell_type": "code",
   "execution_count": 4,
   "id": "1b6a3bdb",
   "metadata": {},
   "outputs": [
    {
     "name": "stdout",
     "output_type": "stream",
     "text": [
      "<class 'pandas.core.frame.DataFrame'>\n",
      "RangeIndex: 100000 entries, 0 to 99999\n",
      "Data columns (total 5 columns):\n",
      " #   Column   Non-Null Count   Dtype  \n",
      "---  ------   --------------   -----  \n",
      " 0   id       100000 non-null  object \n",
      " 1   f0       100000 non-null  float64\n",
      " 2   f1       100000 non-null  float64\n",
      " 3   f2       100000 non-null  float64\n",
      " 4   product  100000 non-null  float64\n",
      "dtypes: float64(4), object(1)\n",
      "memory usage: 3.8+ MB\n",
      "None\n",
      "<class 'pandas.core.frame.DataFrame'>\n",
      "RangeIndex: 100000 entries, 0 to 99999\n",
      "Data columns (total 5 columns):\n",
      " #   Column   Non-Null Count   Dtype  \n",
      "---  ------   --------------   -----  \n",
      " 0   id       100000 non-null  object \n",
      " 1   f0       100000 non-null  float64\n",
      " 2   f1       100000 non-null  float64\n",
      " 3   f2       100000 non-null  float64\n",
      " 4   product  100000 non-null  float64\n",
      "dtypes: float64(4), object(1)\n",
      "memory usage: 3.8+ MB\n",
      "None\n",
      "<class 'pandas.core.frame.DataFrame'>\n",
      "RangeIndex: 100000 entries, 0 to 99999\n",
      "Data columns (total 5 columns):\n",
      " #   Column   Non-Null Count   Dtype  \n",
      "---  ------   --------------   -----  \n",
      " 0   id       100000 non-null  object \n",
      " 1   f0       100000 non-null  float64\n",
      " 2   f1       100000 non-null  float64\n",
      " 3   f2       100000 non-null  float64\n",
      " 4   product  100000 non-null  float64\n",
      "dtypes: float64(4), object(1)\n",
      "memory usage: 3.8+ MB\n",
      "None\n"
     ]
    }
   ],
   "source": [
    "print(geo_0.info())\n",
    "print(geo_1.info())\n",
    "print(geo_2.info())"
   ]
  },
  {
   "cell_type": "markdown",
   "id": "896dbb39",
   "metadata": {},
   "source": [
    "Видим, что данные прекрасны. Пропусков нет. Типы данных для каждого признака установлены вполне логично. Полагаю, что колонка с id скажин нам особо не нужна, но прям удалять из дф пока не будем. При разбивке данных просто не учтем эту колонку."
   ]
  },
  {
   "cell_type": "code",
   "execution_count": 5,
   "id": "98a22a11",
   "metadata": {},
   "outputs": [
    {
     "data": {
      "text/plain": [
       "10"
      ]
     },
     "execution_count": 5,
     "metadata": {},
     "output_type": "execute_result"
    }
   ],
   "source": [
    "geo_0['id'].duplicated().sum()"
   ]
  },
  {
   "cell_type": "code",
   "execution_count": 6,
   "id": "0dd0f7ba",
   "metadata": {},
   "outputs": [
    {
     "data": {
      "text/plain": [
       "4"
      ]
     },
     "execution_count": 6,
     "metadata": {},
     "output_type": "execute_result"
    }
   ],
   "source": [
    "geo_1['id'].duplicated().sum()"
   ]
  },
  {
   "cell_type": "code",
   "execution_count": 7,
   "id": "c09d8d77",
   "metadata": {},
   "outputs": [
    {
     "data": {
      "text/plain": [
       "4"
      ]
     },
     "execution_count": 7,
     "metadata": {},
     "output_type": "execute_result"
    }
   ],
   "source": [
    "geo_2['id'].duplicated().sum()"
   ]
  },
  {
   "cell_type": "markdown",
   "id": "34ada16b",
   "metadata": {},
   "source": [
    "Обнаржули прямые дубликаты по признаку id. В целом некритично, потому что этот признак для нас не носит какойто важности, и дубликатов не так много, если оценивать процентное содержание от размера по каждому региону. Поэтому думаю можно их удалить без опасений."
   ]
  },
  {
   "cell_type": "code",
   "execution_count": 8,
   "id": "be27459a",
   "metadata": {},
   "outputs": [],
   "source": [
    "geo_0.drop_duplicates(subset=['id'], inplace=True)\n",
    "# geo_0.info()\n",
    "geo_1.drop_duplicates(subset=['id'], inplace=True)\n",
    "geo_2.drop_duplicates(subset=['id'], inplace=True)"
   ]
  },
  {
   "cell_type": "markdown",
   "id": "1f6c6b91",
   "metadata": {},
   "source": [
    "Удалили дубликаты по признаку id во всех регионах"
   ]
  },
  {
   "cell_type": "code",
   "execution_count": 9,
   "id": "1d24c5c7",
   "metadata": {},
   "outputs": [
    {
     "data": {
      "image/png": "[encoded data removed]",
      "text/plain": [
       "<Figure size 720x720 with 4 Axes>"
      ]
     },
     "metadata": {
      "needs_background": "light"
     },
     "output_type": "display_data"
    }
   ],
   "source": [
    "geo_0.hist(bins=10, figsize=(10,10))\n",
    "plt.show()"
   ]
  },
  {
   "cell_type": "code",
   "execution_count": 10,
   "id": "f1e41ad8",
   "metadata": {},
   "outputs": [
    {
     "data": {
      "image/png": "[encoded data removed]",
      "text/plain": [
       "<Figure size 720x720 with 4 Axes>"
      ]
     },
     "metadata": {
      "needs_background": "light"
     },
     "output_type": "display_data"
    }
   ],
   "source": [
    "geo_1.hist(bins=10, figsize=(10,10))\n",
    "plt.show()"
   ]
  },
  {
   "cell_type": "code",
   "execution_count": 11,
   "id": "3ce6b5f6",
   "metadata": {},
   "outputs": [
    {
     "data": {
      "image/png": "[encoded data removed]",
      "text/plain": [
       "<Figure size 720x720 with 4 Axes>"
      ]
     },
     "metadata": {
      "needs_background": "light"
     },
     "output_type": "display_data"
    }
   ],
   "source": [
    "geo_2.hist(bins=10, figsize=(10,10))\n",
    "plt.show()"
   ]
  },
  {
   "cell_type": "markdown",
   "id": "f25bcc96",
   "metadata": {},
   "source": [
    "По гистограммам распределния количественных признаков видим, что в большинстве своем данные рапсрделены нормально. Кроме 2ого региона, где и переменная f2 и product распрделены уже ненормлаьно."
   ]
  },
  {
   "cell_type": "code",
   "execution_count": 12,
   "id": "b5767bd0",
   "metadata": {},
   "outputs": [
    {
     "data": {
      "image/png": "[encoded data removed]",
      "text/plain": [
       "<Figure size 432x288 with 2 Axes>"
      ]
     },
     "metadata": {
      "needs_background": "light"
     },
     "output_type": "display_data"
    }
   ],
   "source": [
    "sns.heatmap(geo_0.corr(), annot=True)\n",
    "plt.show()"
   ]
  },
  {
   "cell_type": "markdown",
   "id": "6efb202f",
   "metadata": {},
   "source": [
    "По матрице корреляции (хитмапу) видим, что наша целевая переменная достаточно сильно и положительно (прямопропорционально коррелирует с признаком f2). а с двумя другими коррелирует очень слабо, а с одной из них даже практически обратно попрорционально."
   ]
  },
  {
   "cell_type": "code",
   "execution_count": 13,
   "id": "9376a91d",
   "metadata": {},
   "outputs": [
    {
     "data": {
      "image/png": "[encoded data removed]",
      "text/plain": [
       "<Figure size 432x288 with 2 Axes>"
      ]
     },
     "metadata": {
      "needs_background": "light"
     },
     "output_type": "display_data"
    }
   ],
   "source": [
    "sns.heatmap(geo_1.corr(), annot=True)\n",
    "plt.show()"
   ]
  },
  {
   "cell_type": "markdown",
   "id": "d2994a5f",
   "metadata": {},
   "source": [
    "По 2ому региону: дико сильная прямопропорциональная корреляция идет между целевой переменной и признаком f2. С остальными признаками практичеки отсутствует корреляция и она склонна к обратной пропорциональности."
   ]
  },
  {
   "cell_type": "code",
   "execution_count": 14,
   "id": "e95e3633",
   "metadata": {},
   "outputs": [
    {
     "data": {
      "image/png": "[encoded data removed]",
      "text/plain": [
       "<Figure size 432x288 with 2 Axes>"
      ]
     },
     "metadata": {
      "needs_background": "light"
     },
     "output_type": "display_data"
    }
   ],
   "source": [
    "sns.heatmap(geo_2.corr(), annot=True)\n",
    "plt.show()"
   ]
  },
  {
   "cell_type": "markdown",
   "id": "40e5030f",
   "metadata": {},
   "source": [
    "По 3ьему региону: картина схожа с первым регионом. просматривается хорошая прямая корреляция целевой переменной с третьим признаком. а с остальными двумя практически отсутствует корреляция."
   ]
  },
  {
   "cell_type": "markdown",
   "id": "10d3170c",
   "metadata": {},
   "source": [
    "## 2. Обучение и проверка моделей для каждого региона"
   ]
  },
  {
   "cell_type": "markdown",
   "id": "79b808dc",
   "metadata": {},
   "source": [
    "Сначала нужно во всех данных разбить данные."
   ]
  },
  {
   "cell_type": "code",
   "execution_count": 15,
   "id": "00ef301e",
   "metadata": {},
   "outputs": [],
   "source": [
    "def splitter(data):\n",
    "    # Разделим выборку на валидационную и тестовую. \n",
    "    # Так как необходимо соотношение 75:25 обучающая валидационная, и при этом еще надо выделить тестовую,\n",
    "    # То итоговое соотношение получится 50:25:25\n",
    "    data_train, data_test = train_test_split(data, test_size=0.5, random_state=12345)\n",
    "    data_test, data_valid = train_test_split(data_test, test_size=0.5, random_state=12345)\n",
    "\n",
    "    #  Определим зависимую и независимые переменные для выделенных датасетов\n",
    "    X_train = data_train.drop(['id', 'product'], axis=1)\n",
    "    Y_train = data_train['product']\n",
    "    X_valid = data_valid.drop(['id', 'product'], axis=1)\n",
    "    Y_valid = data_valid['product']\n",
    "    X_test = data_test.drop(['id', 'product'], axis=1)\n",
    "    Y_test = data_test['product']\n",
    "    \n",
    "    # Нормализуем данные\n",
    "    numeric = ['f0', 'f1', 'f2']\n",
    "    scaler = StandardScaler()\n",
    "    scaler.fit(X_train[numeric])\n",
    "\n",
    "    X_train[numeric] = scaler.transform(X_train[numeric])\n",
    "    X_valid[numeric] = scaler.transform(X_valid[numeric])\n",
    "    X_test[numeric] = scaler.transform(X_test[numeric])\n",
    "    \n",
    "    return X_train, Y_train, X_valid, Y_valid, X_test, Y_test"
   ]
  },
  {
   "cell_type": "code",
   "execution_count": 16,
   "id": "ada508d6",
   "metadata": {},
   "outputs": [],
   "source": [
    "# Разбиваем данные по нашим трем дф\n",
    "\n",
    "X_train_0, Y_train_0, X_valid_0, Y_valid_0, X_test_0, Y_test_0 = splitter(geo_0)\n",
    "# print(X_test_0.shape)\n",
    "# print(Y_test_0.shape)\n",
    "X_train_1, Y_train_1, X_valid_1, Y_valid_1, X_test_1, Y_test_1 = splitter(geo_1)\n",
    "X_train_2, Y_train_2, X_valid_2, Y_valid_2, X_test_2, Y_test_2 = splitter(geo_2)"
   ]
  },
  {
   "cell_type": "markdown",
   "id": "4669e7a7",
   "metadata": {},
   "source": [
    "### Находим лучшую модель по geo_0"
   ]
  },
  {
   "cell_type": "markdown",
   "id": "b1d48d97",
   "metadata": {},
   "source": [
    "Так как характер всех 3 геоданных у нас одинаквый: три параметра и количество нефти, то в целях экономии времени можно попробовать пойти по такому пути: возьмем первый набор данных, определим алгоритм, что даст нам наилучший результат по метркие rmse и будем использовать этот алгоритм для двух оставшихся геоданных."
   ]
  },
  {
   "cell_type": "code",
   "execution_count": 17,
   "id": "029f5a6c",
   "metadata": {},
   "outputs": [],
   "source": [
    "# Создадим словарь для записи наилучшей модели, результатво и параметров\n",
    "sl_0 = {}"
   ]
  },
  {
   "cell_type": "code",
   "execution_count": 18,
   "id": "b437d1dd",
   "metadata": {},
   "outputs": [
    {
     "data": {
      "text/plain": [
       "92.49968421774328"
      ]
     },
     "execution_count": 18,
     "metadata": {},
     "output_type": "execute_result"
    }
   ],
   "source": [
    "geo_0['product'].mean()"
   ]
  },
  {
   "cell_type": "markdown",
   "id": "41379e07",
   "metadata": {},
   "source": [
    "#### Дерево решений"
   ]
  },
  {
   "cell_type": "code",
   "execution_count": 19,
   "id": "38437c58",
   "metadata": {},
   "outputs": [
    {
     "name": "stdout",
     "output_type": "stream",
     "text": [
      "37.650580251652094\n",
      "{'max_depth': 6, 'min_samples_split': 2, 'min_samples_leaf': 5}\n"
     ]
    }
   ],
   "source": [
    "# Перебираем гиперпараметры и выбираем модель с минимальным значением RMSE\n",
    "\n",
    "best_rmse = 1000000\n",
    "best_valid = 0\n",
    "good_tree = None\n",
    "for depth in range(1,7):\n",
    "    for split in range(2,4):\n",
    "        for leaf in range(1,6):\n",
    "            model = DecisionTreeRegressor(max_depth=depth, \n",
    "                                           min_samples_split=split, \n",
    "                                           min_samples_leaf=leaf,\n",
    "                                           random_state=12345)\n",
    "            model.fit(X_train_0, Y_train_0)\n",
    "            pred_valid = model.predict(X_valid_0)\n",
    "            rmse = mean_squared_error(Y_valid_0, pred_valid) ** 0.5\n",
    "            if rmse < best_rmse:\n",
    "                best_valid = pred_valid\n",
    "                best_rmse = rmse\n",
    "                best_params = {'max_depth': depth, 'min_samples_split': split, 'min_samples_leaf': leaf}\n",
    "                good_tree = model\n",
    "\n",
    "print(best_rmse)                \n",
    "print(best_params)\n",
    "sl_0['Decision Tree'] = [best_rmse, best_params, good_tree]\n"
   ]
  },
  {
   "cell_type": "markdown",
   "id": "4795d43a",
   "metadata": {},
   "source": [
    "Получили, что на алгоритме \"Дерево решений\", наименьшее значение RMSE составило 37.7, это означает, что предсказания нашей модели отличаются от фактических на 37 тысяч баррелей."
   ]
  },
  {
   "cell_type": "markdown",
   "id": "b3f570a7",
   "metadata": {},
   "source": [
    "#### Случайный лес"
   ]
  },
  {
   "cell_type": "code",
   "execution_count": 20,
   "id": "63be4f26",
   "metadata": {},
   "outputs": [
    {
     "name": "stdout",
     "output_type": "stream",
     "text": [
      "37.71168616956792\n",
      "{'n_estimators': 20, 'max_depth': 4, 'min_samples_split': 2, 'min_samples_leaf': 1}\n"
     ]
    }
   ],
   "source": [
    "best_rmse = 1000000\n",
    "best_valid = 0\n",
    "good_forest = None\n",
    "for est in range(10,31,10):\n",
    "    for depth in range(1, 5):\n",
    "        for split in range(2,3):\n",
    "            for leaf in range(1,2):\n",
    "                model = RandomForestRegressor(n_estimators=est,\n",
    "                                               min_samples_split=split,\n",
    "                                               max_depth=depth,\n",
    "                                               min_samples_leaf=leaf,\n",
    "                                               random_state=12345)\n",
    "                model.fit(X_train_0, Y_train_0)\n",
    "                pred_valid = model.predict(X_valid_0)\n",
    "                rmse = mean_squared_error(Y_valid_0, pred_valid) ** 0.5\n",
    "                if rmse < best_rmse:\n",
    "                    best_valid = pred_valid\n",
    "                    best_rmse = rmse\n",
    "                    best_params = {'n_estimators': est, 'max_depth': depth, \n",
    "                                   'min_samples_split': split, 'min_samples_leaf': leaf}\n",
    "                    good_forest = model\n",
    "\n",
    "print(best_rmse)\n",
    "print(best_params)\n",
    "sl_0['Random Forest'] = [best_rmse, best_params, good_tree]\n"
   ]
  },
  {
   "cell_type": "markdown",
   "id": "7f870987",
   "metadata": {},
   "source": [
    "Получили, что на алгоритме \"Случайного леса\", наименьшее значение RMSE составило тоже 37.7, это означает, что предсказания нашей модели отличаются от фактических на 37 тысяч баррелей."
   ]
  },
  {
   "cell_type": "markdown",
   "id": "593d63e8",
   "metadata": {},
   "source": [
    "#### Классическая линейная регрессия"
   ]
  },
  {
   "cell_type": "code",
   "execution_count": 21,
   "id": "7d6f38d3",
   "metadata": {},
   "outputs": [
    {
     "name": "stdout",
     "output_type": "stream",
     "text": [
      "37.6999520447097\n"
     ]
    }
   ],
   "source": [
    "model_0 = LinearRegression()\n",
    "model_0.fit(X_train_0, Y_train_0)\n",
    "pred_valid = model_0.predict(X_valid_0)\n",
    "rmse = mean_squared_error(Y_valid_0, pred_valid) ** 0.5\n",
    "print(rmse)\n",
    "\n",
    "sl_0['Linear Regression'] = [rmse, model_0]\n"
   ]
  },
  {
   "cell_type": "markdown",
   "id": "5cd4b892",
   "metadata": {},
   "source": [
    "Получили, что на алгоритме \"Линейная регрессия\", наименьшее значение RMSE составило 37.6, это означает, что предсказания нашей модели отличаются от фактических на 36 тысяч баррелей.\n",
    "\n",
    "Определим точного победителя, чтобы понять какой алгорит выберем для предсказаний."
   ]
  },
  {
   "cell_type": "code",
   "execution_count": 22,
   "id": "d26a0ebb",
   "metadata": {},
   "outputs": [
    {
     "name": "stdout",
     "output_type": "stream",
     "text": [
      "Decision Tree\n",
      "RMSE =  37.650580251652094\n"
     ]
    }
   ],
   "source": [
    "max_key = min(sl_0.items(), key=lambda x: x[1][0])[0]\n",
    "print(max_key)\n",
    "print('RMSE = ', sl_0[max_key][0])"
   ]
  },
  {
   "cell_type": "markdown",
   "id": "a3f5e6e4",
   "metadata": {},
   "source": [
    "В целом и так было понятно, что наилучшим алгоритмом дла геоданных_0 оказалась линейная регрессия. Значит используем ее для остальных геоданных"
   ]
  },
  {
   "cell_type": "markdown",
   "id": "2e48ed51",
   "metadata": {},
   "source": [
    "Сохраним результаты в отдельный словарь."
   ]
  },
  {
   "cell_type": "code",
   "execution_count": 23,
   "id": "709f825c",
   "metadata": {},
   "outputs": [],
   "source": [
    "sl_rmse = {'RMSE 0': sl_0[max_key][0]}"
   ]
  },
  {
   "cell_type": "markdown",
   "id": "1694337f",
   "metadata": {},
   "source": [
    "### Обучение моделей для geo 1 и 2"
   ]
  },
  {
   "cell_type": "markdown",
   "id": "c11b7088",
   "metadata": {},
   "source": [
    "Обучим модель и определим RMSE для двух оставшихся дф"
   ]
  },
  {
   "cell_type": "code",
   "execution_count": 24,
   "id": "cbfeeb42",
   "metadata": {},
   "outputs": [
    {
     "name": "stdout",
     "output_type": "stream",
     "text": [
      "0.8917355955898417\n",
      "40.20390610085968\n"
     ]
    }
   ],
   "source": [
    "# geo_1\n",
    "model_1 = LinearRegression()\n",
    "model_1.fit(X_train_1, Y_train_1)\n",
    "pred_valid = model_1.predict(X_valid_1)\n",
    "rmse = mean_squared_error(Y_valid_1, pred_valid) ** 0.5\n",
    "print(rmse)\n",
    "\n",
    "sl_rmse['RMSE 1'] =  rmse\n",
    "\n",
    "# geo_2\n",
    "model_2 = LinearRegression()\n",
    "model_2.fit(X_train_2, Y_train_2)\n",
    "pred_valid = model_2.predict(X_valid_2)\n",
    "rmse = mean_squared_error(Y_valid_2, pred_valid) ** 0.5\n",
    "print(rmse)\n",
    "\n",
    "sl_rmse['RMSE 2'] =  rmse"
   ]
  },
  {
   "cell_type": "code",
   "execution_count": 25,
   "id": "cce996ce",
   "metadata": {},
   "outputs": [
    {
     "name": "stdout",
     "output_type": "stream",
     "text": [
      "{'RMSE 0': 37.650580251652094, 'RMSE 1': 0.8917355955898417, 'RMSE 2': 40.20390610085968}\n"
     ]
    }
   ],
   "source": [
    "print(sl_rmse)"
   ]
  },
  {
   "cell_type": "markdown",
   "id": "5c023a2d",
   "metadata": {},
   "source": [
    "Здесь мы мжем видеть, что метрика RMSE для геоданных_1 оказалась самой наилучшей. \"отклонение\" меньше тысячи баррелей. А вот у геоданных_2 наоборот получилось самое высокое отклонение - 40 тысяч."
   ]
  },
  {
   "cell_type": "markdown",
   "id": "0d5b810b",
   "metadata": {},
   "source": [
    "### Прогнозирвоание значений на тестовых выборках для geo 0, 1 и 2"
   ]
  },
  {
   "cell_type": "code",
   "execution_count": 26,
   "id": "6e622692",
   "metadata": {},
   "outputs": [],
   "source": [
    "sl_test_rmse = {'Признак': ['mean', 'RMSE']}"
   ]
  },
  {
   "cell_type": "code",
   "execution_count": 27,
   "id": "c6b71822",
   "metadata": {},
   "outputs": [
    {
     "name": "stdout",
     "output_type": "stream",
     "text": [
      "37.94881451095149\n",
      "0.8927318082354637\n",
      "39.88366654606752\n"
     ]
    }
   ],
   "source": [
    "# geo_0\n",
    "pred_test_0 = model_0.predict(X_test_0)\n",
    "rmse = mean_squared_error(Y_test_0, pred_test_0) ** 0.5\n",
    "print(rmse)\n",
    "\n",
    "sl_test_rmse['GEO 0'] =  [pred_test_0.mean(), rmse]\n",
    "\n",
    "# geo_1\n",
    "pred_test_1 = model_1.predict(X_test_1)\n",
    "rmse = mean_squared_error(Y_test_1, pred_test_1) ** 0.5\n",
    "print(rmse)\n",
    "\n",
    "sl_test_rmse['GEO 1'] =  [pred_test_1.mean(), rmse]\n",
    "\n",
    "# geo_2\n",
    "pred_test_2 = model_2.predict(X_test_2)\n",
    "rmse = mean_squared_error(Y_test_2, pred_test_2) ** 0.5\n",
    "print(rmse)\n",
    "\n",
    "sl_test_rmse['GEO 2'] =  [pred_test_2.mean(), rmse]\n",
    "\n"
   ]
  },
  {
   "cell_type": "code",
   "execution_count": 28,
   "id": "6c7ebc8b",
   "metadata": {},
   "outputs": [
    {
     "name": "stdout",
     "output_type": "stream",
     "text": [
      "  Признак      GEO 0      GEO 1      GEO 2\n",
      "0    mean  92.804192  68.694101  95.073656\n",
      "1    RMSE  37.948815   0.892732  39.883667\n"
     ]
    }
   ],
   "source": [
    "sl_test_rmse_df = pd.DataFrame(sl_test_rmse)\n",
    "print(sl_test_rmse_df)"
   ]
  },
  {
   "cell_type": "markdown",
   "id": "e848526b",
   "metadata": {},
   "source": [
    "## 3. Подготовка к расчёту прибыли"
   ]
  },
  {
   "cell_type": "code",
   "execution_count": 29,
   "id": "fa6d6278",
   "metadata": {},
   "outputs": [
    {
     "name": "stdout",
     "output_type": "stream",
     "text": [
      "111.11111111111111\n"
     ]
    }
   ],
   "source": [
    "min_volume = BUDGET / (NUMBER_OF_WELLS * COST_1000_BARRELS)\n",
    "print(min_volume)\n",
    "\n",
    "if min_volume < geo_0['product'].mean():\n",
    "    print('good 0')\n",
    "if min_volume < geo_1['product'].mean():\n",
    "    print('good 1')\n",
    "if min_volume < geo_2['product'].mean():\n",
    "    print('good 2')\n",
    "    \n",
    "# len(geo_0[geo_0['product'] > min_volume])\n",
    "# print(geo_0['product'].mean())"
   ]
  },
  {
   "cell_type": "markdown",
   "id": "844cfb26",
   "metadata": {},
   "source": [
    "Получили минимальный объём сырья для безубыточной разработки - 111.11 тысяч баррелей. А так же посчитали, что среднее значение по объему нефти в скажинах меньше чем минимальный объём безубыточности."
   ]
  },
  {
   "cell_type": "markdown",
   "id": "5ffd8b0e",
   "metadata": {},
   "source": [
    "## 4. Функция для расчёта прибыли по выбранным скважинам и предсказаниям модели"
   ]
  },
  {
   "cell_type": "raw",
   "id": "417243f2",
   "metadata": {},
   "source": [
    "def profit_calc(predictions, targets):\n",
    "    # Отортируем предсказанные значения, найдем индексы скважин с максимальными значениями и найдем объемы сырья для выбранных значений\n",
    "    indexes = np.argsort(predictions)[::-1]\n",
    "\n",
    "    # Находим объемы сырья для выбранных скважин\n",
    "    good_wells = targets[indexes][:200]\n",
    "    #print(good_wells)\n",
    "    \n",
    "    # Объем сырья\n",
    "    total_oil = good_wells.sum()\n",
    "    \n",
    "    # Рассчитываем прибыль\n",
    "    total_profit = total_oil * COST_1000_BARRELS - BUDGET\n",
    "    \n",
    "    return total_profit"
   ]
  },
  {
   "cell_type": "code",
   "execution_count": 30,
   "id": "80ce1eed",
   "metadata": {},
   "outputs": [],
   "source": [
    "#ячейка ревьюера\n",
    "\n",
    "def profit_calc(predict, target):\n",
    "    ''' сортируем предсказания'''\n",
    "    predict_sorted = predict.sort_values(ascending=False)\n",
    "    ''' берем соответствующие им по индексам реальные значения'''    \n",
    "    target_sorted = target[predict_sorted.index][:NUMBER_OF_WELLS]    \n",
    "    product = target_sorted.sum()\n",
    "    \n",
    "    ''' выражаем прибыль в млн'''\n",
    "    return (product * COST_1000_BARRELS - BUDGET)/1e6 "
   ]
  },
  {
   "cell_type": "markdown",
   "id": "039f9363",
   "metadata": {},
   "source": [
    "Создали функцию для расчета прибыли."
   ]
  },
  {
   "cell_type": "markdown",
   "id": "367a9fdd",
   "metadata": {},
   "source": [
    "## 5. Расчитаем риски и прибыль для каждого региона:"
   ]
  },
  {
   "cell_type": "code",
   "execution_count": 31,
   "id": "274af8de",
   "metadata": {},
   "outputs": [
    {
     "data": {
      "text/plain": [
       "(10947    153.487265\n",
       " 75137    161.033006\n",
       " 52206     49.339484\n",
       " 9236     132.377556\n",
       " 71482     12.232629\n",
       "             ...    \n",
       " 28079    123.771630\n",
       " 14895    144.495987\n",
       " 65848    136.184531\n",
       " 6583     101.596316\n",
       " 64478     39.903187\n",
       " Name: product, Length: 24997, dtype: float64,\n",
       " array([122.40321726, 128.91574615,  82.9548382 , ...,  97.16413993,\n",
       "        103.44270722,  96.69422009]))"
      ]
     },
     "execution_count": 31,
     "metadata": {},
     "output_type": "execute_result"
    }
   ],
   "source": [
    "#ячейка ревьюера\n",
    "'''индексы НЕ соответствуют'''\n",
    "\n",
    "Y_test_0, pred_test_0"
   ]
  },
  {
   "cell_type": "code",
   "execution_count": 32,
   "id": "bab40f41",
   "metadata": {},
   "outputs": [
    {
     "data": {
      "text/plain": [
       "(10947    153.487265\n",
       " 75137    161.033006\n",
       " 52206     49.339484\n",
       " 9236     132.377556\n",
       " 71482     12.232629\n",
       "             ...    \n",
       " 28079    123.771630\n",
       " 14895    144.495987\n",
       " 65848    136.184531\n",
       " 6583     101.596316\n",
       " 64478     39.903187\n",
       " Name: product, Length: 24997, dtype: float64,\n",
       " 10947    122.403217\n",
       " 75137    128.915746\n",
       " 52206     82.954838\n",
       " 9236     109.650171\n",
       " 71482     33.883785\n",
       "             ...    \n",
       " 28079    100.416487\n",
       " 14895    102.207552\n",
       " 65848     97.164140\n",
       " 6583     103.442707\n",
       " 64478     96.694220\n",
       " Length: 24997, dtype: float64)"
      ]
     },
     "execution_count": 32,
     "metadata": {},
     "output_type": "execute_result"
    }
   ],
   "source": [
    "#ячейка ревьюера\n",
    "'''индексы соответствуют'''\n",
    "\n",
    "Y_test_0, pd.Series(pred_test_0, Y_test_0.index)"
   ]
  },
  {
   "cell_type": "markdown",
   "id": "fe5debd3",
   "metadata": {},
   "source": [
    "Смэтчим индексы предсказаний и таргетов."
   ]
  },
  {
   "cell_type": "code",
   "execution_count": 33,
   "id": "9f1ac69d",
   "metadata": {},
   "outputs": [],
   "source": [
    "pred_test_0 = pd.Series(pred_test_0, Y_test_0.index)\n",
    "pred_test_1 = pd.Series(pred_test_1, Y_test_1.index)\n",
    "pred_test_2 = pd.Series(pred_test_2, Y_test_2.index)\n"
   ]
  },
  {
   "cell_type": "code",
   "execution_count": 34,
   "id": "d582be44",
   "metadata": {},
   "outputs": [],
   "source": [
    "# Создаем функцию для техники Bootstrap для расчета прибыли\n",
    "# def bootstrap(target, predictions, n_samples):\n",
    "#     values = []\n",
    "#     state = np.random.RandomState(12345)\n",
    "#     for i in range(n_samples):\n",
    "#         target_sampled = np.random.choice(target, size=len(target), replace=True)\n",
    "#         preds_sampled = np.random.choice(predictions, size=len(predictions), replace=True)\n",
    "#         values.append(profit_calc(preds_sampled, target_sampled))\n",
    "#     return values\n",
    "\n",
    "def bootstrap(target, predictions, n_samples):\n",
    "    values = []\n",
    "    state = np.random.RandomState(12345)\n",
    "    for i in range(n_samples):\n",
    "        ''' нам надо выбрать 500 случайных значений из таргета'''\n",
    "        target_500 = target.sample(500, replace=True, random_state=state) \n",
    "        ''' берем соответствующие им по индексам предсказания'''\n",
    "        predict_500 = predictions[target_500.index]\n",
    "        values.append(profit_calc(predict_500, target_500)) \n",
    "    ''' получили 1000 вариантов (значений) прибыли'''\n",
    "    return pd.Series(values)\n"
   ]
  },
  {
   "cell_type": "code",
   "execution_count": 35,
   "id": "5e3dc867",
   "metadata": {},
   "outputs": [],
   "source": [
    "n_samples = 1000\n",
    "\n",
    "# Вычисляем распределение прибыли для каждого региона\n",
    "v_0 = bootstrap(Y_test_0, pred_test_0, n_samples)\n",
    "v_1 = bootstrap(Y_test_1, pred_test_1, n_samples)\n",
    "v_2 = bootstrap(Y_test_2, pred_test_2, n_samples)\n",
    "\n",
    "#print(v_0)"
   ]
  },
  {
   "cell_type": "code",
   "execution_count": 36,
   "id": "275e3a67",
   "metadata": {},
   "outputs": [],
   "source": [
    "# Рассчитываем среднюю прибыль\n",
    "mean_profit_0 = np.mean(v_0)\n",
    "mean_profit_1 = np.mean(v_1)\n",
    "mean_profit_2 = np.mean(v_2)"
   ]
  },
  {
   "cell_type": "code",
   "execution_count": 37,
   "id": "45f37ef1",
   "metadata": {},
   "outputs": [],
   "source": [
    "# Определяем доверительный интервал\n",
    "interval_0 = np.percentile(v_0, [2.5, 97.5])\n",
    "interval_1 = np.percentile(v_1, [2.5, 97.5])\n",
    "interval_2 = np.percentile(v_2, [2.5, 97.5])"
   ]
  },
  {
   "cell_type": "code",
   "execution_count": 38,
   "id": "eaa3f720",
   "metadata": {},
   "outputs": [],
   "source": [
    "# Расчитываем риск убытков\n",
    "risk_0 = np.mean(np.array(v_0) < 0)\n",
    "risk_1 = np.mean(np.array(v_1) < 0)\n",
    "risk_2 = np.mean(np.array(v_2) < 0)\n"
   ]
  },
  {
   "cell_type": "code",
   "execution_count": 39,
   "id": "37dd296c",
   "metadata": {},
   "outputs": [
    {
     "name": "stdout",
     "output_type": "stream",
     "text": [
      "Средняя прибыль региона 0: 451.89966267159934\n",
      "95%-й доверительный интервал региона 0: [-40.66247331 966.52062702]\n",
      "Риск убытков региона 0: 0.039\n",
      "Средняя прибыль региона 1: 517.5442578159368\n",
      "95%-й доверительный интервал региона 1: [ 80.11429022 943.18207005]\n",
      "Риск убытков региона 1: 0.01\n",
      "Средняя прибыль региона 2: 383.31712733143024\n",
      "95%-й доверительный интервал региона 2: [-169.03848525  940.5055776 ]\n",
      "Риск убытков региона 2: 0.087\n"
     ]
    }
   ],
   "source": [
    "# Выводим результаты\n",
    "print(\"Средняя прибыль региона 0:\", mean_profit_0)\n",
    "print(\"95%-й доверительный интервал региона 0:\", interval_0)\n",
    "print(\"Риск убытков региона 0:\", risk_0)\n",
    "\n",
    "print(\"Средняя прибыль региона 1:\", mean_profit_1)\n",
    "print(\"95%-й доверительный интервал региона 1:\", interval_1)\n",
    "print(\"Риск убытков региона 1:\", risk_1)\n",
    "\n",
    "print(\"Средняя прибыль региона 2:\", mean_profit_2)\n",
    "print(\"95%-й доверительный интервал региона 2:\", interval_2)\n",
    "print(\"Риск убытков региона 2:\", risk_2)"
   ]
  },
  {
   "cell_type": "markdown",
   "id": "674ecf37",
   "metadata": {},
   "source": [
    "## Вывод"
   ]
  },
  {
   "cell_type": "markdown",
   "id": "961d7513",
   "metadata": {},
   "source": [
    "По условию посталвенной задачи, нам необходимо выбрать тот регион, в котором будет макисмаьная прибыль и минимальные риски. ПРитом есть четкий порог по допустимости рисокв - 2.5%."
   ]
  },
  {
   "cell_type": "code",
   "execution_count": 40,
   "id": "1306f076",
   "metadata": {},
   "outputs": [
    {
     "name": "stdout",
     "output_type": "stream",
     "text": [
      "Not allowed geo_0\n",
      "Allowed geo_1\n",
      "Not allowed geo_2\n"
     ]
    }
   ],
   "source": [
    "print('Allowed geo_0' if risk_0 < 2.5 / 100 else 'Not allowed geo_0')\n",
    "print('Allowed geo_1' if risk_1 < 2.5 / 100 else 'Not allowed geo_1')\n",
    "print('Allowed geo_2' if risk_2 < 2.5 / 100 else 'Not allowed geo_2')"
   ]
  },
  {
   "cell_type": "markdown",
   "id": "ca5df59d",
   "metadata": {},
   "source": [
    "Из полученных результатов видим, что после прохода порога на минимальные риски подходит только регион 2. Ожидаемая прибыль региона варьируется от 80 до 943 млн рублей."
   ]
  },
  {
   "cell_type": "markdown",
   "id": "09d0dce6",
   "metadata": {},
   "source": [
    "## Общий вывод"
   ]
  },
  {
   "cell_type": "markdown",
   "id": "09b1b332",
   "metadata": {},
   "source": [
    "1. Были изучены предоставленные данные. В каждом регионе было найдено по несколько дубликатов айди скважин. Дубликаты бли исключены из выборок. Изучили распределение количественных признаков, а так же провели исследование на корреляцию количественных признаков с целевым признаком.\n",
    "2. По каждому региону разбили выборки на обучающую, валидационну и тестовую в соотношении 2:1:1. По первому региону построили 3 модели линейной регрессии (алгорит решающего дерева, случайного леса и линейной регрессии) и по метрике rmse выбрали самую наилучшую модель. А если точнее, то выбралась модель, у которой rmse на валидационной выборке был минимальный - это была линейная регрессия со значением rmse = 37.7 тыс баррелей. \n",
    "3. Используя тот же алгоритм обучили модель для второго и третьего региона. Получили значения rmse соотвественно 0.9 и 40.2.\n",
    "4. Применили полученные модели к тестовым выборкам и получили спрогнозированные данные. Метрика rmse по каждой составила 37.9, 0.9 и 39.9 соответственно.\n",
    "5. Рассчитали минимальный объем нефти, который должен быть в каждой из 200 скважин. Получилось 111.11 тысяч баррелей нефти.\n",
    "6. Написали функцию profit_calc, которая рассчитывает прибыль по заданным 200 скважинами и предсказаниям модели.\n",
    "7. Написали функцию для техники bootstrap для расчета прибыли. Рассчитали распределение прибыли для каждого региона. \n",
    "8. Рассчитали среднюю прибыль каждого региона. Рассчитали 95%-й доверительный интервал и рассчитали риск убытков так же для каждого региона.\n",
    "9. Определили регион с минимальным риском и максимальной прибылью. Это скважины 2ого региона. Риск безубыточности - 1% а интервал возможной прибыли составляет от 80 до 943млн рублей."
   ]
  }
 ],
 "metadata": {
  "ExecuteTimeLog": [
   {
    "duration": 2078,
    "start_time": "2023-05-05T14:45:23.908Z"
   },
   {
    "duration": 1856,
    "start_time": "2023-05-05T14:45:25.989Z"
   },
   {
    "duration": 43,
    "start_time": "2023-05-05T14:45:27.847Z"
   },
   {
    "duration": 5,
    "start_time": "2023-05-05T14:45:27.893Z"
   },
   {
    "duration": 163,
    "start_time": "2023-05-05T14:45:27.900Z"
   },
   {
    "duration": 3,
    "start_time": "2023-05-05T14:45:28.065Z"
   },
   {
    "duration": 23,
    "start_time": "2023-05-05T14:45:28.069Z"
   },
   {
    "duration": 24912,
    "start_time": "2023-05-05T14:45:28.094Z"
   },
   {
    "duration": 251141,
    "start_time": "2023-05-05T14:45:53.007Z"
   },
   {
    "duration": 18,
    "start_time": "2023-05-05T14:50:04.157Z"
   },
   {
    "duration": 178,
    "start_time": "2023-05-05T14:50:04.177Z"
   },
   {
    "duration": 23,
    "start_time": "2023-05-05T14:50:04.358Z"
   },
   {
    "duration": 68,
    "start_time": "2023-05-05T14:50:04.383Z"
   },
   {
    "duration": 96,
    "start_time": "2023-05-05T14:50:04.455Z"
   },
   {
    "duration": 119,
    "start_time": "2023-05-05T14:50:04.552Z"
   },
   {
    "duration": 78,
    "start_time": "2023-05-05T14:50:04.673Z"
   },
   {
    "duration": 199,
    "start_time": "2023-05-05T14:50:04.753Z"
   },
   {
    "duration": 31,
    "start_time": "2023-05-05T14:50:04.955Z"
   },
   {
    "duration": 7,
    "start_time": "2023-05-05T14:50:04.989Z"
   },
   {
    "duration": 15,
    "start_time": "2023-05-05T14:50:04.998Z"
   },
   {
    "duration": 19667,
    "start_time": "2023-05-05T14:50:05.015Z"
   },
   {
    "duration": 4,
    "start_time": "2023-05-05T14:50:24.684Z"
   },
   {
    "duration": 27,
    "start_time": "2023-05-05T14:50:24.690Z"
   },
   {
    "duration": 14,
    "start_time": "2023-05-05T14:50:24.722Z"
   },
   {
    "duration": 54,
    "start_time": "2023-05-05T14:50:24.739Z"
   },
   {
    "duration": 17,
    "start_time": "2023-05-05T14:50:24.795Z"
   },
   {
    "duration": 30,
    "start_time": "2023-05-05T14:50:24.814Z"
   },
   {
    "duration": 9,
    "start_time": "2023-05-05T14:58:48.071Z"
   },
   {
    "duration": 7,
    "start_time": "2023-05-05T14:59:00.104Z"
   },
   {
    "duration": 6,
    "start_time": "2023-05-05T15:00:38.290Z"
   },
   {
    "duration": 8,
    "start_time": "2023-05-05T15:02:34.322Z"
   },
   {
    "duration": 4,
    "start_time": "2023-05-05T15:04:10.509Z"
   },
   {
    "duration": 5,
    "start_time": "2023-05-05T15:04:12.103Z"
   },
   {
    "duration": 5,
    "start_time": "2023-05-05T15:04:14.003Z"
   },
   {
    "duration": 2372,
    "start_time": "2023-05-06T05:06:23.318Z"
   },
   {
    "duration": 4,
    "start_time": "2023-05-06T05:06:25.693Z"
   },
   {
    "duration": 992,
    "start_time": "2023-05-06T05:06:25.699Z"
   },
   {
    "duration": 40,
    "start_time": "2023-05-06T05:06:26.694Z"
   },
   {
    "duration": 21,
    "start_time": "2023-05-06T05:06:26.736Z"
   },
   {
    "duration": 36,
    "start_time": "2023-05-06T05:06:26.758Z"
   },
   {
    "duration": 29,
    "start_time": "2023-05-06T05:06:26.796Z"
   },
   {
    "duration": 102,
    "start_time": "2023-05-06T05:06:26.827Z"
   },
   {
    "duration": 513,
    "start_time": "2023-05-06T05:06:26.931Z"
   },
   {
    "duration": 621,
    "start_time": "2023-05-06T05:06:27.448Z"
   },
   {
    "duration": 503,
    "start_time": "2023-05-06T05:06:28.070Z"
   },
   {
    "duration": 366,
    "start_time": "2023-05-06T05:06:28.575Z"
   },
   {
    "duration": 331,
    "start_time": "2023-05-06T05:06:28.943Z"
   },
   {
    "duration": 320,
    "start_time": "2023-05-06T05:06:29.276Z"
   },
   {
    "duration": 5,
    "start_time": "2023-05-06T05:06:29.598Z"
   },
   {
    "duration": 148,
    "start_time": "2023-05-06T05:06:29.606Z"
   },
   {
    "duration": 3,
    "start_time": "2023-05-06T05:06:29.756Z"
   },
   {
    "duration": 7,
    "start_time": "2023-05-06T05:06:29.761Z"
   },
   {
    "duration": 35,
    "start_time": "2023-05-06T05:06:29.770Z"
   },
   {
    "duration": 85,
    "start_time": "2023-05-06T05:06:29.807Z"
   },
   {
    "duration": 6,
    "start_time": "2023-05-06T05:06:29.894Z"
   },
   {
    "duration": 190,
    "start_time": "2023-05-06T05:06:29.905Z"
   },
   {
    "duration": 4,
    "start_time": "2023-05-06T05:06:30.097Z"
   },
   {
    "duration": 14,
    "start_time": "2023-05-06T05:06:30.192Z"
   },
   {
    "duration": 90,
    "start_time": "2023-05-06T05:06:30.209Z"
   },
   {
    "duration": 193,
    "start_time": "2023-05-06T05:06:30.300Z"
   },
   {
    "duration": 7,
    "start_time": "2023-05-06T05:06:30.495Z"
   },
   {
    "duration": 50,
    "start_time": "2023-05-06T05:06:30.505Z"
   },
   {
    "duration": 28,
    "start_time": "2023-05-06T05:06:30.557Z"
   },
   {
    "duration": 25,
    "start_time": "2023-05-06T05:06:30.587Z"
   },
   {
    "duration": 23,
    "start_time": "2023-05-06T05:06:30.613Z"
   },
   {
    "duration": 26,
    "start_time": "2023-05-06T05:06:30.638Z"
   },
   {
    "duration": 186,
    "start_time": "2023-05-06T05:06:30.666Z"
   },
   {
    "duration": 0,
    "start_time": "2023-05-06T05:06:30.853Z"
   },
   {
    "duration": 0,
    "start_time": "2023-05-06T05:06:30.857Z"
   },
   {
    "duration": 0,
    "start_time": "2023-05-06T05:06:30.858Z"
   },
   {
    "duration": 0,
    "start_time": "2023-05-06T05:06:30.860Z"
   },
   {
    "duration": 0,
    "start_time": "2023-05-06T05:06:30.862Z"
   },
   {
    "duration": 0,
    "start_time": "2023-05-06T05:06:30.863Z"
   },
   {
    "duration": 7,
    "start_time": "2023-05-06T05:08:18.008Z"
   },
   {
    "duration": 4,
    "start_time": "2023-05-06T05:10:30.439Z"
   },
   {
    "duration": 5,
    "start_time": "2023-05-06T05:10:58.056Z"
   },
   {
    "duration": 4,
    "start_time": "2023-05-06T05:11:29.439Z"
   },
   {
    "duration": 6,
    "start_time": "2023-05-06T05:11:51.444Z"
   },
   {
    "duration": 6,
    "start_time": "2023-05-06T05:12:11.020Z"
   },
   {
    "duration": 6,
    "start_time": "2023-05-06T05:14:16.049Z"
   },
   {
    "duration": 7,
    "start_time": "2023-05-06T05:14:26.411Z"
   },
   {
    "duration": 5,
    "start_time": "2023-05-06T05:16:11.164Z"
   },
   {
    "duration": 37,
    "start_time": "2023-05-06T05:16:14.728Z"
   },
   {
    "duration": 4,
    "start_time": "2023-05-06T05:18:23.354Z"
   },
   {
    "duration": 4,
    "start_time": "2023-05-06T05:18:28.497Z"
   },
   {
    "duration": 4954,
    "start_time": "2023-05-06T05:18:34.098Z"
   },
   {
    "duration": 4,
    "start_time": "2023-05-06T05:18:42.729Z"
   },
   {
    "duration": 5,
    "start_time": "2023-05-06T05:18:46.325Z"
   },
   {
    "duration": 3,
    "start_time": "2023-05-06T05:18:47.957Z"
   },
   {
    "duration": 8,
    "start_time": "2023-05-06T05:18:50.506Z"
   },
   {
    "duration": 4,
    "start_time": "2023-05-06T05:19:09.325Z"
   },
   {
    "duration": 4,
    "start_time": "2023-05-06T05:21:16.392Z"
   },
   {
    "duration": 4508,
    "start_time": "2023-05-06T05:21:25.384Z"
   },
   {
    "duration": 5,
    "start_time": "2023-05-06T05:21:32.250Z"
   },
   {
    "duration": 6,
    "start_time": "2023-05-06T05:21:33.828Z"
   },
   {
    "duration": 5,
    "start_time": "2023-05-06T05:21:35.961Z"
   },
   {
    "duration": 10,
    "start_time": "2023-05-06T05:21:39.213Z"
   },
   {
    "duration": 5,
    "start_time": "2023-05-06T05:22:11.363Z"
   },
   {
    "duration": 4211,
    "start_time": "2023-05-06T05:22:15.028Z"
   },
   {
    "duration": 3,
    "start_time": "2023-05-06T05:22:21.257Z"
   },
   {
    "duration": 8,
    "start_time": "2023-05-06T05:22:23.116Z"
   },
   {
    "duration": 5,
    "start_time": "2023-05-06T05:22:24.496Z"
   },
   {
    "duration": 8,
    "start_time": "2023-05-06T05:22:26.712Z"
   },
   {
    "duration": 2351,
    "start_time": "2023-05-06T05:24:02.698Z"
   },
   {
    "duration": 3,
    "start_time": "2023-05-06T05:24:05.051Z"
   },
   {
    "duration": 418,
    "start_time": "2023-05-06T05:24:05.056Z"
   },
   {
    "duration": 35,
    "start_time": "2023-05-06T05:24:05.476Z"
   },
   {
    "duration": 22,
    "start_time": "2023-05-06T05:24:05.513Z"
   },
   {
    "duration": 37,
    "start_time": "2023-05-06T05:24:05.537Z"
   },
   {
    "duration": 38,
    "start_time": "2023-05-06T05:24:05.576Z"
   },
   {
    "duration": 89,
    "start_time": "2023-05-06T05:24:05.616Z"
   },
   {
    "duration": 500,
    "start_time": "2023-05-06T05:24:05.706Z"
   },
   {
    "duration": 638,
    "start_time": "2023-05-06T05:24:06.210Z"
   },
   {
    "duration": 622,
    "start_time": "2023-05-06T05:24:06.850Z"
   },
   {
    "duration": 361,
    "start_time": "2023-05-06T05:24:07.474Z"
   },
   {
    "duration": 335,
    "start_time": "2023-05-06T05:24:07.838Z"
   },
   {
    "duration": 334,
    "start_time": "2023-05-06T05:24:08.175Z"
   },
   {
    "duration": 6,
    "start_time": "2023-05-06T05:24:08.511Z"
   },
   {
    "duration": 143,
    "start_time": "2023-05-06T05:24:08.518Z"
   },
   {
    "duration": 3,
    "start_time": "2023-05-06T05:24:08.663Z"
   },
   {
    "duration": 18,
    "start_time": "2023-05-06T05:24:08.668Z"
   },
   {
    "duration": 100,
    "start_time": "2023-05-06T05:24:08.694Z"
   },
   {
    "duration": 8,
    "start_time": "2023-05-06T05:24:08.797Z"
   },
   {
    "duration": 95,
    "start_time": "2023-05-06T05:24:08.807Z"
   },
   {
    "duration": 195,
    "start_time": "2023-05-06T05:24:08.904Z"
   },
   {
    "duration": 91,
    "start_time": "2023-05-06T05:24:09.102Z"
   },
   {
    "duration": 6,
    "start_time": "2023-05-06T05:24:09.195Z"
   },
   {
    "duration": 101,
    "start_time": "2023-05-06T05:24:09.203Z"
   },
   {
    "duration": 93,
    "start_time": "2023-05-06T05:24:09.306Z"
   },
   {
    "duration": 98,
    "start_time": "2023-05-06T05:24:09.401Z"
   },
   {
    "duration": 4,
    "start_time": "2023-05-06T05:24:09.504Z"
   },
   {
    "duration": 18,
    "start_time": "2023-05-06T05:24:09.510Z"
   },
   {
    "duration": 15,
    "start_time": "2023-05-06T05:24:09.531Z"
   },
   {
    "duration": 7,
    "start_time": "2023-05-06T05:24:09.548Z"
   },
   {
    "duration": 37,
    "start_time": "2023-05-06T05:24:09.557Z"
   },
   {
    "duration": 4200,
    "start_time": "2023-05-06T05:24:09.596Z"
   },
   {
    "duration": 4,
    "start_time": "2023-05-06T05:24:13.798Z"
   },
   {
    "duration": 30,
    "start_time": "2023-05-06T05:24:13.803Z"
   },
   {
    "duration": 9,
    "start_time": "2023-05-06T05:24:13.836Z"
   },
   {
    "duration": 12,
    "start_time": "2023-05-06T05:24:13.846Z"
   },
   {
    "duration": 19,
    "start_time": "2023-05-06T05:24:13.860Z"
   },
   {
    "duration": 23,
    "start_time": "2023-05-06T05:24:13.882Z"
   },
   {
    "duration": 12,
    "start_time": "2023-05-06T05:29:26.193Z"
   },
   {
    "duration": 5,
    "start_time": "2023-05-06T05:30:28.508Z"
   },
   {
    "duration": 7,
    "start_time": "2023-05-06T05:30:42.377Z"
   },
   {
    "duration": 5,
    "start_time": "2023-05-06T05:33:26.713Z"
   },
   {
    "duration": 5,
    "start_time": "2023-05-06T05:33:39.318Z"
   },
   {
    "duration": 6,
    "start_time": "2023-05-06T05:34:13.966Z"
   },
   {
    "duration": 7,
    "start_time": "2023-05-06T05:34:31.684Z"
   },
   {
    "duration": 8,
    "start_time": "2023-05-06T05:35:36.442Z"
   },
   {
    "duration": 4,
    "start_time": "2023-05-06T05:37:16.687Z"
   },
   {
    "duration": 6,
    "start_time": "2023-05-06T05:38:55.346Z"
   },
   {
    "duration": 10,
    "start_time": "2023-05-06T05:39:01.816Z"
   },
   {
    "duration": 152,
    "start_time": "2023-05-06T05:39:47.530Z"
   },
   {
    "duration": 16,
    "start_time": "2023-05-06T05:40:06.017Z"
   },
   {
    "duration": 16,
    "start_time": "2023-05-06T05:40:30.211Z"
   },
   {
    "duration": 16,
    "start_time": "2023-05-06T05:41:01.209Z"
   },
   {
    "duration": 8,
    "start_time": "2023-05-06T05:41:51.205Z"
   },
   {
    "duration": 8,
    "start_time": "2023-05-06T05:42:07.521Z"
   },
   {
    "duration": 6,
    "start_time": "2023-05-06T05:42:31.576Z"
   },
   {
    "duration": 16,
    "start_time": "2023-05-06T05:43:03.261Z"
   },
   {
    "duration": 6,
    "start_time": "2023-05-06T05:44:09.210Z"
   },
   {
    "duration": 1878,
    "start_time": "2023-05-06T05:45:09.610Z"
   },
   {
    "duration": 10,
    "start_time": "2023-05-06T05:45:14.540Z"
   },
   {
    "duration": 11,
    "start_time": "2023-05-06T05:48:04.291Z"
   },
   {
    "duration": 4,
    "start_time": "2023-05-06T05:48:10.633Z"
   },
   {
    "duration": 5,
    "start_time": "2023-05-06T05:48:16.914Z"
   },
   {
    "duration": 22,
    "start_time": "2023-05-06T05:48:19.501Z"
   },
   {
    "duration": 2164,
    "start_time": "2023-05-06T05:49:00.363Z"
   },
   {
    "duration": 2,
    "start_time": "2023-05-06T05:49:02.529Z"
   },
   {
    "duration": 457,
    "start_time": "2023-05-06T05:49:02.533Z"
   },
   {
    "duration": 45,
    "start_time": "2023-05-06T05:49:02.992Z"
   },
   {
    "duration": 20,
    "start_time": "2023-05-06T05:49:03.038Z"
   },
   {
    "duration": 19,
    "start_time": "2023-05-06T05:49:03.059Z"
   },
   {
    "duration": 26,
    "start_time": "2023-05-06T05:49:03.091Z"
   },
   {
    "duration": 64,
    "start_time": "2023-05-06T05:49:03.119Z"
   },
   {
    "duration": 474,
    "start_time": "2023-05-06T05:49:03.184Z"
   },
   {
    "duration": 573,
    "start_time": "2023-05-06T05:49:03.660Z"
   },
   {
    "duration": 496,
    "start_time": "2023-05-06T05:49:04.235Z"
   },
   {
    "duration": 309,
    "start_time": "2023-05-06T05:49:04.733Z"
   },
   {
    "duration": 338,
    "start_time": "2023-05-06T05:49:05.044Z"
   },
   {
    "duration": 319,
    "start_time": "2023-05-06T05:49:05.384Z"
   },
   {
    "duration": 5,
    "start_time": "2023-05-06T05:49:05.705Z"
   },
   {
    "duration": 126,
    "start_time": "2023-05-06T05:49:05.712Z"
   },
   {
    "duration": 2,
    "start_time": "2023-05-06T05:49:05.840Z"
   },
   {
    "duration": 7,
    "start_time": "2023-05-06T05:49:05.843Z"
   },
   {
    "duration": 61,
    "start_time": "2023-05-06T05:49:05.852Z"
   },
   {
    "duration": 12,
    "start_time": "2023-05-06T05:49:05.992Z"
   },
   {
    "duration": 9,
    "start_time": "2023-05-06T05:49:06.005Z"
   },
   {
    "duration": 176,
    "start_time": "2023-05-06T05:49:06.016Z"
   },
   {
    "duration": 6,
    "start_time": "2023-05-06T05:49:06.194Z"
   },
   {
    "duration": 7,
    "start_time": "2023-05-06T05:49:06.202Z"
   },
   {
    "duration": 188,
    "start_time": "2023-05-06T05:49:06.211Z"
   },
   {
    "duration": 97,
    "start_time": "2023-05-06T05:49:06.401Z"
   },
   {
    "duration": 12,
    "start_time": "2023-05-06T05:49:06.502Z"
   },
   {
    "duration": 3,
    "start_time": "2023-05-06T05:49:06.517Z"
   },
   {
    "duration": 10,
    "start_time": "2023-05-06T05:49:06.522Z"
   },
   {
    "duration": 6,
    "start_time": "2023-05-06T05:49:06.534Z"
   },
   {
    "duration": 12,
    "start_time": "2023-05-06T05:49:06.542Z"
   },
   {
    "duration": 22,
    "start_time": "2023-05-06T05:49:06.556Z"
   },
   {
    "duration": 4249,
    "start_time": "2023-05-06T05:49:06.579Z"
   },
   {
    "duration": 4,
    "start_time": "2023-05-06T05:49:10.829Z"
   },
   {
    "duration": 6,
    "start_time": "2023-05-06T05:49:10.835Z"
   },
   {
    "duration": 5,
    "start_time": "2023-05-06T05:49:10.842Z"
   },
   {
    "duration": 10,
    "start_time": "2023-05-06T05:49:10.848Z"
   },
   {
    "duration": 6,
    "start_time": "2023-05-06T05:49:10.860Z"
   },
   {
    "duration": 42,
    "start_time": "2023-05-06T05:49:10.868Z"
   }
  ],
  "kernelspec": {
   "display_name": "Python 3 (ipykernel)",
   "language": "python",
   "name": "python3"
  },
  "language_info": {
   "codemirror_mode": {
    "name": "ipython",
    "version": 3
   },
   "file_extension": ".py",
   "mimetype": "text/x-python",
   "name": "python",
   "nbconvert_exporter": "python",
   "pygments_lexer": "ipython3",
   "version": "3.9.12"
  },
  "toc": {
   "base_numbering": 1,
   "nav_menu": {},
   "number_sections": true,
   "sideBar": true,
   "skip_h1_title": true,
   "title_cell": "Table of Contents",
   "title_sidebar": "Contents",
   "toc_cell": false,
   "toc_position": {},
   "toc_section_display": true,
   "toc_window_display": true
  }
 },
 "nbformat": 4,
 "nbformat_minor": 5
}
